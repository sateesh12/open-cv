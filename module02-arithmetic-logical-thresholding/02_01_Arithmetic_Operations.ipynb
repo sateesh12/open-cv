{
 "cells": [
  {
   "cell_type": "markdown",
   "metadata": {
    "id": "in2UQrlTKCK_"
   },
   "source": [
    "<h1 style=\"font-size:30px;\">Arithmetic Operations</h1>\n",
    "\n",
    "In this notebook we will cover **arithmetic operations** which includes addition, subtraction and multiplication of images by a scalar. We will also take a look at some unexpected results that ocurr when performing such operations and how to resolve them."
   ]
  },
  {
   "cell_type": "code",
   "execution_count": null,
   "metadata": {
    "id": "9Vb3KwpVKCLC"
   },
   "outputs": [],
   "source": [
    "import cv2\n",
    "import numpy as np\n",
    "import matplotlib.pyplot as plt \n",
    "%matplotlib inline\n",
    "from IPython.display import Image\n",
    "\n",
    "if 'google.colab' in str(get_ipython()):\n",
    "    print(\"Downloading Code to Colab Environment\")\n",
    "    !wget https://www.dropbox.com/sh/f8ae3j0nbrflife/AAAy-WwcREtWOGgoEbFLDPANa?dl=1 -O module-code.zip -q --show-progress\n",
    "    !unzip -qq module-code.zip\n",
    "else:\n",
    "    pass"
   ]
  },
  {
   "cell_type": "markdown",
   "metadata": {
    "id": "Kf6m2mZGKCLE"
   },
   "source": [
    "### <font style=\"color:rgb(50,120,230)\">Read and display original image</font>"
   ]
  },
  {
   "cell_type": "code",
   "execution_count": null,
   "metadata": {
    "colab": {
     "base_uri": "https://localhost:8080/",
     "height": 317
    },
    "id": "JuGlSEjUKCLE",
    "outputId": "72c11261-9360-4a0b-dfc3-c5efed881f83",
    "scrolled": false
   },
   "outputs": [],
   "source": [
    "image = 'new-zealand-lake.jpg'\n",
    "img = cv2.imread(image, cv2.IMREAD_COLOR)\n",
    "\n",
    "# Display the image.\n",
    "Image(filename=image, width='400')"
   ]
  },
  {
   "cell_type": "markdown",
   "metadata": {
    "id": "urWb_RC2KCLF"
   },
   "source": [
    "# 1. Addition / Subtraction:  Changes the Image Brightness\n",
    "Adding a constant value to the intensity of each pixel in an image will increase the brightness of the image. Likewise, subtracting a constant value from each pixel will decrease the brighhtness of an image. We can use the **`add()`** and **`subtract()`** functions in OpenCV to perform these operations on images. "
   ]
  },
  {
   "cell_type": "markdown",
   "metadata": {
    "id": "NsSdXbKyKCLG"
   },
   "source": [
    "<hr style=\"border:none; height: 4px; background-color:#D3D3D3\" />\n",
    "\n",
    "### <font color=\"green\">Function Syntax </font>\n",
    "``` python\n",
    "dst = cv2.add(src1, src2[, dst[, mask[, dtype]]])\n",
    "\n",
    "```\n",
    "`dst`: Output image of the same size and depth as `src1` and `src2`.\n",
    "\n",
    "The function has **2 required arguments**:\n",
    "\n",
    "1. `src1`: first input array or a scalar.\n",
    "2. `src2`: second input array of same size and the same type as src1, or a scalar.\n",
    "\n",
    "The function has **2 optional arguments**:\n",
    "1. `mask`: optional operation mask - 8-bit single channel array, that specifies elements of the output array to be changed.\n",
    "2. `dtype`: optional depth of the output array.\n",
    "\n",
    "### <font color=\"green\">OpenCV Documentation</font>\n",
    "\n",
    "\n",
    "[**`add()`**](https://docs.opencv.org/4.5.2/d2/de8/group__core__array.html#ga10ac1bfb180e2cfda1701d06c24fdbd6)\n",
    "[**`subtract()`**](https://docs.opencv.org/4.5.2/d2/de8/group__core__array.html#gaa0f00d98b4b5edeaeb7b8333b2de353b)\n",
    "\n",
    "<hr style=\"border:none; height: 4px; background-color:#D3D3D3\" />"
   ]
  },
  {
   "cell_type": "markdown",
   "metadata": {
    "id": "D4FoN5wbKCLG"
   },
   "source": [
    "### <font style=\"color:rgb(50,120,230)\">Adjust the brightness of an image<font/>"
   ]
  },
  {
   "cell_type": "code",
   "execution_count": null,
   "metadata": {
    "colab": {
     "base_uri": "https://localhost:8080/",
     "height": 285
    },
    "id": "HgH5dOwLKCLH",
    "outputId": "2457cbae-c6c2-42b6-c77d-7a01b0928677",
    "scrolled": false
   },
   "outputs": [],
   "source": [
    "# Create a matrix with constant intensity.\n",
    "matrix = np.ones(img.shape, dtype = 'uint8') * 30\n",
    "\n",
    "# Create brighter and darker images.\n",
    "img_brighter = cv2.add(img, matrix)\n",
    "img_darker   = cv2.subtract(img, matrix)\n",
    "\n",
    "# Display the images\n",
    "plt.figure(figsize = [18,5])\n",
    "plt.subplot(131); plt.imshow(img_darker[:, :, ::-1]);   plt.title('Darker')\n",
    "plt.subplot(132); plt.imshow(img[:, :, ::-1]);          plt.title('Original')\n",
    "plt.subplot(133); plt.imshow(img_brighter[:, :, ::-1]); plt.title('Brighter');"
   ]
  },
  {
   "cell_type": "markdown",
   "metadata": {
    "id": "i6QkfuEJKCLH"
   },
   "source": [
    "# 2. Multiplication: Changes the Image Contrast\n",
    "Multiplying the intensity values of an image by a constant value (greater or less than 1) will change the contrast of the image. Contrast is defined by the difference in the intensity values within an image. Consider the blue lake and the darker foreground in the image. Let's say the intensity of the lake is 150 and that of the foreground is 100. We perceive the difference between these two values as a measure of the contrast in the image. In this case, the difference is 50. Multiplying each by a factor of 1.5 would result in 225 for the lake and 150 for the foreground. The resulting difference after this multiplication is now 75 which has a higher contrast compared to the original image. Multiplying by a factor less than one results in a lower contrast image."
   ]
  },
  {
   "cell_type": "markdown",
   "metadata": {
    "id": "Tx5VdRvPKCLI"
   },
   "source": [
    "<hr style=\"border:none; height: 4px; background-color:#D3D3D3\" />\n",
    "\n",
    "### <font color=\"green\">Function Syntax </font>\n",
    "``` python\n",
    "dst = cv2.multiply(src1, src2[, dst[, scale[, dtype]]])\n",
    "```\n",
    "`dst`: Output image of the same size and depth as `src1` and `src2`.\n",
    "\n",
    "The function has **2 required arguments**:\n",
    "\n",
    "1. `src1`: first input array.\n",
    "2. `src2`: second input array of the same size and the same type as src1, or a scalar.\n",
    "\n",
    "The function has **2 optional arguments**:\n",
    "1. `scale`: optional scale factor.\n",
    "2. `dtype`: optional depth of the output array.\n",
    "\n",
    "### <font color=\"green\">OpenCV Documentation</font>\n",
    "\n",
    "\n",
    "[**`multiply()`**](https://docs.opencv.org/4.5.2/d2/de8/group__core__array.html#ga979d898a58d7f61c53003e162e7ad89f)\n",
    "\n",
    "<hr style=\"border:none; height: 4px; background-color:#D3D3D3\" />"
   ]
  },
  {
   "cell_type": "markdown",
   "metadata": {
    "id": "wYjJhM10KCLJ"
   },
   "source": [
    "### <font style=\"color:rgb(50,120,230)\">Modify the image contrast<font/> "
   ]
  },
  {
   "cell_type": "code",
   "execution_count": null,
   "metadata": {
    "colab": {
     "base_uri": "https://localhost:8080/",
     "height": 285
    },
    "id": "cHeKQ5zWKCLJ",
    "outputId": "679fb490-f550-45df-829e-ca893675a098"
   },
   "outputs": [],
   "source": [
    "# Create matrices with a constant scale factor.\n",
    "matrix1 = np.ones(img.shape) * 0.8\n",
    "matrix2 = np.ones(img.shape) * 1.2\n",
    "\n",
    "# Create lower and higher contrast images.\n",
    "img_lower  = np.uint8(cv2.multiply(np.float64(img), matrix1))\n",
    "img_higher = np.uint8(cv2.multiply(np.float64(img), matrix2))\n",
    "\n",
    "# Display the images.\n",
    "plt.figure(figsize = [18,5])\n",
    "plt.subplot(131); plt.imshow(img_lower[:, :, ::-1]);  plt.title('Lower Contrast')\n",
    "plt.subplot(132); plt.imshow(img[:, :, ::-1]);        plt.title('Original')\n",
    "plt.subplot(133); plt.imshow(img_higher[:, :, ::-1]); plt.title('Higher Contrast');"
   ]
  },
  {
   "cell_type": "markdown",
   "metadata": {
    "id": "ssVZYc5fKCLK"
   },
   "source": [
    "### <font style=\"color:rgb(50,120,230)\">What happened?</font>\n",
    "Notice that the high contrast image above has some strange colors in the clouds. When the original image was multiplied by the scale factor, some pixel intensity values exceeded 255. So when those floating-point values were converted to 8-bit unsigned integers using `np.uint8()`, an overflow condition occurred and the conversion to `uint8` wraps the values back to 0. For example, `np.uint8(265.2)` converts the floating point value of 265.2 to 9. You can verify this with the following command: `print(np.uint8(265.2))`\n",
    "\n",
    "So, how can we overcome this?"
   ]
  },
  {
   "cell_type": "markdown",
   "metadata": {
    "id": "e5TZ7VlqKCLK"
   },
   "source": [
    "### <font style=\"color:rgb(50,120,230)\">Handling Overflow using np.clip()</font>\n",
    "The overflow condition can be handled by using the **`np.clip()`** function to clip the multiplied values to a specified range prior to converting to **`uint8`**."
   ]
  },
  {
   "cell_type": "code",
   "execution_count": null,
   "metadata": {
    "colab": {
     "base_uri": "https://localhost:8080/",
     "height": 285
    },
    "id": "5F-K04DjKCLK",
    "outputId": "f18d280d-7bdd-4d3d-c462-e86c7d3b6572",
    "scrolled": false
   },
   "outputs": [],
   "source": [
    "# Create matrices with a constant scale factor.\n",
    "matrix1 = np.ones(img.shape) * 0.8\n",
    "matrix2 = np.ones(img.shape) * 1.2\n",
    "\n",
    "# Create lower and higher contrast images.\n",
    "img_lower   = np.uint8(cv2.multiply(np.float64(img), matrix1))\n",
    "img_higher  = np.uint8(np.clip(cv2.multiply(np.float64(img), matrix2) , 0, 255))\n",
    "\n",
    "# Display the images.\n",
    "plt.figure(figsize=[18,5])\n",
    "plt.subplot(131); plt.imshow(img_lower[:, :, ::-1]);  plt.title('Lower Contrast')\n",
    "plt.subplot(132); plt.imshow(img[:, :, ::-1]);        plt.title('Original')\n",
    "plt.subplot(133); plt.imshow(img_higher[:, :, ::-1]); plt.title('Higher Contrast');"
   ]
  },
  {
   "cell_type": "markdown",
   "metadata": {
    "id": "EZlAj1SBKCLL"
   },
   "source": [
    "### <font style=\"color:rgb(50,120,230)\">Using the scale option</font>"
   ]
  },
  {
   "cell_type": "code",
   "execution_count": null,
   "metadata": {
    "colab": {
     "base_uri": "https://localhost:8080/",
     "height": 285
    },
    "id": "_Aked75WKCLL",
    "outputId": "78c56069-f4e8-4f66-9c67-01dc54655a90"
   },
   "outputs": [],
   "source": [
    "# Create matrices with a constant scale factor.\n",
    "matrix_ones = np.ones(img.shape, dtype = 'float64')\n",
    "\n",
    "# Create lower and higher contrast images.\n",
    "img_lower   = np.uint8(cv2.multiply(np.float64(img), matrix_ones, scale = 0.8))\n",
    "img_higher  = np.uint8(np.clip(cv2.multiply(np.float64(img), matrix_ones, scale = 1.2) , 0, 255))\n",
    "\n",
    "# Display the images.\n",
    "plt.figure(figsize = [18,5])\n",
    "plt.subplot(131); plt.imshow(img_lower[:, :, ::-1]);  plt.title('Lower Contrast')\n",
    "plt.subplot(132); plt.imshow(img[:, :, ::-1]);        plt.title('Original')\n",
    "plt.subplot(133); plt.imshow(img_higher[:, :, ::-1]); plt.title('Higher Contrast');"
   ]
  },
  {
   "cell_type": "markdown",
   "metadata": {
    "id": "NmVA653-KCLL"
   },
   "source": [
    "# 3. Exercise\n",
    "Please complete the code in the cell below."
   ]
  },
  {
   "cell_type": "code",
   "execution_count": null,
   "metadata": {
    "id": "rwQQq7S0KCLL"
   },
   "outputs": [],
   "source": [
    "import cv2\n",
    "import numpy as np\n",
    "import matplotlib.pyplot as plt \n",
    "%matplotlib inline\n",
    "# Read the image ('Santorini.jpg')\n",
    "image = 'Santorini.jpg'\n",
    "img = cv2.imread(image, cv2.IMREAD_COLOR)\n",
    "\n",
    "# Create a matrix of ones (with data type float64)\n",
    "matrix_ones = np.ones(img.shape,dtype = 'float64')\n",
    "\n",
    "# Create two higher contrast images using the 'scale' option with factors of 1.1 and 1.2 (without overflow fix)\n",
    "# YOUR CODE HERE\n",
    "img_higher1  = np.uint8(cv2.multiply(np.float64(img), matrix_ones, scale = 1.1))\n",
    "img_higher2  = np.uint8(cv2.multiply(np.float64(img), matrix_ones, scale = 1.2))\n",
    "\n",
    "# Display the images (original, higher (1.1x) , high (1.2x))\n",
    "# UNCOMMENT the lines below.\n",
    "plt.figure(figsize=[18,5])\n",
    "plt.subplot(131); plt.imshow(img[:, :, ::-1]);         plt.title('Original')\n",
    "plt.subplot(132); plt.imshow(img_higher1[:, :, ::-1]); plt.title('Higher (1.1x)')\n",
    "plt.subplot(133); plt.imshow(img_higher2[:, :, ::-1]); plt.title('Higher (1.2x)');\n",
    "\n",
    "# Create higher contrast images using scale factors of 1.1 and 1.2 (using np.clip() to clip high values to 255)\n",
    "# YOUR CODE HERE\n",
    "img_higher1  = np.uint8(np.clip(cv2.multiply(np.float64(img), matrix_ones, scale = 1.1) , 0, 255))\n",
    "\n",
    "img_higher2  = np.uint8(np.clip(cv2.multiply(np.float64(img), matrix_ones, scale = 1.2) , 0, 255))\n",
    "\n",
    "\n",
    "# Display the images (original, higher (1.1x) clipped , high (1.2x) clipped)\n",
    "# UNCOMMENT the lines below.\n",
    "plt.figure(figsize = [18,5])\n",
    "plt.subplot(131); plt.imshow(img[:, :, ::-1]);         plt.title('Original')\n",
    "plt.subplot(132); plt.imshow(img_higher1[:, :, ::-1]); plt.title('Higher (1.1x): clipped')\n",
    "plt.subplot(133); plt.imshow(img_higher2[:, :, ::-1]); plt.title('Higher (1.2x): clipped');"
   ]
  },
  {
   "cell_type": "markdown",
   "metadata": {
    "id": "JJQb8ISRKCLM"
   },
   "source": [
    "Your results should look like this.\n",
    "![Exercise-01](https://opencv.org/wp-content/uploads/2021/08/c0-m2-Exercise-01.png)"
   ]
  }
 ],
 "metadata": {
  "colab": {
   "provenance": []
  },
  "kernelspec": {
   "display_name": "Python 3 (ipykernel)",
   "language": "python",
   "name": "python3"
  },
  "language_info": {
   "codemirror_mode": {
    "name": "ipython",
    "version": 3
   },
   "file_extension": ".py",
   "mimetype": "text/x-python",
   "name": "python",
   "nbconvert_exporter": "python",
   "pygments_lexer": "ipython3",
   "version": "3.10.11"
  }
 },
 "nbformat": 4,
 "nbformat_minor": 1
}
