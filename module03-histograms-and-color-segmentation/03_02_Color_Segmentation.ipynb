{
 "cells": [
  {
   "cell_type": "markdown",
   "metadata": {},
   "source": [
    "<h1 style=\"font-size:30px;\">Color Segmentation </h1>\n",
    "\n",
    "In this notebook, we are going to learn how to perform color segmentation with the help of the OpenCV function **`inRange()`**. The following images convey the idea. The first image contains three unique colors and we will demonstrate how to isolate each of the colors using HSV (Hue, Saturation, and Value) color space.\n",
    "![OpenCV-logo-color-segmentation](https://opencv.org/wp-content/uploads/2021/08/c0-m3-OpenCV-logo-color-segmentation.jpg)"
   ]
  },
  {
   "cell_type": "code",
   "execution_count": null,
   "metadata": {},
   "outputs": [],
   "source": [
    "if 'google.colab' in str(get_ipython()):\n",
    "    !pip install --upgrade opencv-contrib-python\n",
    "    !pip install matplotlib==3.5.2\n",
    "    print(\"Downloading Code to Colab Environment\")\n",
    "    !wget https://www.dropbox.com/sh/s1bc9bnavqx9ryo/AABFVq9q_73nOcZ4T05k40rga?dl=1 -O module-code.zip -q --show-progress\n",
    "    !unzip -qq module-code.zip\n",
    "else:\n",
    "    pass"
   ]
  },
  {
   "cell_type": "code",
   "execution_count": null,
   "metadata": {},
   "outputs": [],
   "source": [
    "import cv2\n",
    "import numpy as np\n",
    "from matplotlib import pyplot as plt\n",
    "plt.rcParams['image.cmap'] = 'gray'"
   ]
  },
  {
   "cell_type": "markdown",
   "metadata": {},
   "source": [
    "# 1. Read and Display a Color Image"
   ]
  },
  {
   "cell_type": "code",
   "execution_count": null,
   "metadata": {},
   "outputs": [],
   "source": [
    "# Read the image in a 3 channel color format.\n",
    "img = cv2.imread('opencv_logo.png', cv2.IMREAD_COLOR)\n",
    "\n",
    "# Display.\n",
    "plt.figure(figsize = (5, 5))\n",
    "plt.imshow(img[:, :, ::-1])  # Swap color channels from BGR to RGB\n",
    "plt.title('Original Image');"
   ]
  },
  {
   "cell_type": "markdown",
   "metadata": {},
   "source": [
    "# 2.  Convert the Image to HSV\n",
    "\n",
    "Similar to the BGR color space, HSV contains three channels. However, instead of these channels representing how much Blue, Green, and Red contribute to a single pixel, HSV instead defines the color of a single pixel stands in terms of Hue, Saturation, and Value. Both BGR and HSV take up the same number of channels, so we can convert from one to the other with minimal impact to our image (small rounding errors may take effect)."
   ]
  },
  {
   "cell_type": "code",
   "execution_count": null,
   "metadata": {},
   "outputs": [],
   "source": [
    "img_hsv = cv2.cvtColor(img, cv2.COLOR_BGR2HSV)"
   ]
  },
  {
   "cell_type": "markdown",
   "metadata": {},
   "source": [
    "# 3. Define Lower and Upper HSV Color Bounds\n",
    "\n",
    "The HSV color space is cylindrical. In OpenCV, the Hue component is measure in degrees and has a range of `[0, 180]`. Saturation and Value both range from `[0, 255]`. The plot below shows a 2D representation of the color space. The Hue component is along the x-axis and the y-axis shows the Saturation component with a value of 255 being the most saturated. The entire plot is for a Value of 255 (the brightest value). You can imagine this plot as the outer layer of a cylinder (where the Value component is measured radially from the center of the cylinder). This is a very convenient color space to work with because the \"color\" is contained in a single component (H). The Saturation indicates how saturated the color is and the value indicates how bright or dark the color is. "
   ]
  },
  {
   "cell_type": "markdown",
   "metadata": {},
   "source": [
    "![HSV-plot](https://opencv.org/wp-content/uploads/2021/08/c0-m3-HSV-Plot.png)"
   ]
  },
  {
   "cell_type": "markdown",
   "metadata": {},
   "source": [
    "### <font style=\"color:rgb(50,120,230)\">Select the lower and upper bounds for Red, Green and Blue</font>\n",
    "\n",
    "Based on the HSV plot above we have selected lower and upper bounds for Red, Green, and Blue. Selecting the range in the Hue component is somewhat subjective and application-dependent. For the `S` and `V` components, we have selected a fixed range for all three colors as shown in the cell below to keep things simple."
   ]
  },
  {
   "cell_type": "code",
   "execution_count": null,
   "metadata": {},
   "outputs": [],
   "source": [
    "# Set range for red color.\n",
    "r_lb = np.array([165, 50, 50], np.uint8)\n",
    "r_ub = np.array([180, 255, 255], np.uint8)\n",
    "\n",
    "# Set range for green color.\n",
    "g_lb = np.array([35, 50, 50], np.uint8)\n",
    "g_ub = np.array([80, 255, 255], np.uint8)\n",
    "\n",
    "# Set range for blue color.\n",
    "b_lb = np.array([95, 50, 50], np.uint8)\n",
    "b_ub = np.array([125, 255, 255], np.uint8)"
   ]
  },
  {
   "cell_type": "markdown",
   "metadata": {},
   "source": [
    "# 4. Define a Color Mask for each Color"
   ]
  },
  {
   "cell_type": "markdown",
   "metadata": {},
   "source": [
    "<hr style=\"border:none; height: 4px; background-color:#D3D3D3\" />\n",
    "\n",
    "### <font style=\"color:rgb(8,133,37)\">Function Syntax </font>\n",
    "``` \n",
    "dst = cv2.inRange(src, lowerb, upperb[, dst]) \n",
    "```\n",
    "\n",
    "`dst`:\toutput array of the same size as src and CV_8U type\n",
    " \n",
    "The function has 3 **required arguments**:\n",
    "1. `src`:\tfirst input array\n",
    "2. `lowerb`:\tinclusive lower boundary array or a scalar\n",
    "3. `upperb`:\tinclusive upper boundary array or a scalar\n",
    "\n",
    "### <font style=\"color:rgb(8,133,37)\">OpenCV Documentation</font>\n",
    "\n",
    "[**`inRange()`**](https://docs.opencv.org/4.5.2/d2/de8/group__core__array.html#ga48af0ab51e36436c5d04340e036ce981)\n",
    "\n",
    "<hr style=\"border:none; height: 4px; background-color:#D3D3D3\" />"
   ]
  },
  {
   "cell_type": "code",
   "execution_count": null,
   "metadata": {},
   "outputs": [],
   "source": [
    "# Define each color mask.\n",
    "r_mask = cv2.inRange(img_hsv, r_lb, r_ub)\n",
    "g_mask = cv2.inRange(img_hsv, g_lb, g_ub)\n",
    "b_mask = cv2.inRange(img_hsv, b_lb, b_ub)\n",
    "\n",
    "# Display each color mask.\n",
    "plt.figure(figsize = (18, 4))\n",
    "plt.subplot(131); plt.imshow(r_mask); plt.title('Red Mask')\n",
    "plt.subplot(132); plt.imshow(g_mask); plt.title('Green Mask')\n",
    "plt.subplot(133); plt.imshow(b_mask); plt.title('Blue Mask');"
   ]
  },
  {
   "cell_type": "markdown",
   "metadata": {},
   "source": [
    "# 5.  Segment the Colors\n",
    "Now that we have generated the color masks, we can segment each color from the original image using the `bitwise_and()` operation.\n",
    "### <font style=\"color:rgb(8,133,37)\">OpenCV Documentation</font>\n",
    "\n",
    "[**`bitwise_and()`**](https://docs.opencv.org/4.5.2/d2/de8/group__core__array.html#ga60b4d04b251ba5eb1392c34425497e14)\n"
   ]
  },
  {
   "cell_type": "code",
   "execution_count": null,
   "metadata": {
    "scrolled": true
   },
   "outputs": [],
   "source": [
    "# Segment the colors.\n",
    "r_seg = cv2.bitwise_and(img, img, mask = r_mask)\n",
    "g_seg = cv2.bitwise_and(img, img, mask = g_mask)\n",
    "b_seg = cv2.bitwise_and(img, img, mask = b_mask)\n",
    "\n",
    "# Display the segmented colors.\n",
    "plt.figure(figsize = (18, 4))\n",
    "plt.subplot(131); plt.imshow(r_seg[:, :, ::-1]); plt.title('Red Color Segmented')\n",
    "plt.subplot(132); plt.imshow(g_seg[:, :, ::-1]); plt.title('Green Color Segmented')\n",
    "plt.subplot(133); plt.imshow(b_seg[:, :, ::-1]); plt.title('Blue Color Segmented');"
   ]
  },
  {
   "cell_type": "markdown",
   "metadata": {},
   "source": [
    "# 6. Exercise\n",
    "Please complete the code in the cell below.\n",
    "Please complete the code in the cell below."
   ]
  },
  {
   "cell_type": "code",
   "execution_count": null,
   "metadata": {},
   "outputs": [],
   "source": [
    "# Readin the color image: 'Emerald_Lakes_New_Zealand.jpg'\n",
    "# YOUR CODE HERE\n",
    "import cv2\n",
    "import numpy as np\n",
    "from matplotlib import pyplot as plt\n",
    "plt.rcParams['image.cmap'] = 'gray'\n",
    "img = cv2.imread('Emerald_Lakes_New_Zealand.jpg')\n",
    "# Convert to HSV (use: cvtColor())\n",
    "# YOUR CODE HERE \n",
    "img_hsv = cv2.cvtColor(img, cv2.COLOR_BGR2HSV)\n",
    "\n",
    "\n",
    "# Specify the lower and upper bound to segment the green lakes in the image.\n",
    "# YOUR CODE HERE\n",
    "g_lb = np.array([35, 50, 50], np.uint8)\n",
    "g_ub = np.array([80, 255, 255], np.uint8)\n",
    "\n",
    "\n",
    "# Create a green mask (use: inRange())\n",
    "# YOUR CODE HERE\n",
    "g_mask = cv2.inRange(img_hsv, g_lb, g_ub)\n",
    "\n",
    "# Segment the lakes (use bitwise_and())\n",
    "# YOUR CODE HERE\n",
    "g_seg = cv2.bitwise_and(img, img, mask = g_mask)\n",
    "\n",
    "# Display the original image and the segmented lakes.\n",
    "plt.figure(figsize = (18, 4))\n",
    "plt.subplot(131); plt.imshow(img_hsv[:, :, ::-1]); plt.title('HSV View')\n",
    "plt.subplot(132); plt.imshow(g_mask); plt.title('Green Mask')\n",
    "plt.subplot(133); plt.imshow(g_seg[:, :, ::-1]); plt.title('Green Segment')"
   ]
  },
  {
   "cell_type": "markdown",
   "metadata": {},
   "source": [
    "Your results should look similar to this.\n",
    "![c0-m3-Exercise-02](https://opencv.org/wp-content/uploads/2021/08/c0-m3-Exercise-03-02.png)"
   ]
  }
 ],
 "metadata": {
  "kernelspec": {
   "display_name": "Python 3 (ipykernel)",
   "language": "python",
   "name": "python3"
  },
  "language_info": {
   "codemirror_mode": {
    "name": "ipython",
    "version": 3
   },
   "file_extension": ".py",
   "mimetype": "text/x-python",
   "name": "python",
   "nbconvert_exporter": "python",
   "pygments_lexer": "ipython3",
   "version": "3.10.11"
  }
 },
 "nbformat": 4,
 "nbformat_minor": 4
}
