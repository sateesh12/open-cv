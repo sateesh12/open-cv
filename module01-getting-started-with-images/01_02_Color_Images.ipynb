{
 "cells": [
  {
   "cell_type": "markdown",
   "metadata": {},
   "source": [
    "<h1 style=\"font-size:30px;\">Color Images</h1>\n",
    "\n",
    "In this module, we will cover the most fundamental concepts associated with color images. These include color spaces, color channels, and some practical considerations associated with reading and displaying color images. \n",
    "\n",
    "* Reading and Displaying Color Images\n",
    "* Splitting and Merging Color Channels\n",
    "* Converting to Different Color Spaces\n",
    "* Saving Images [recap]"
   ]
  },
  {
   "cell_type": "code",
   "execution_count": null,
   "metadata": {
    "slideshow": {
     "slide_type": "-"
    }
   },
   "outputs": [],
   "source": [
    "import cv2\n",
    "import numpy as np\n",
    "import matplotlib.pyplot as plt\n",
    "import matplotlib\n",
    "%matplotlib inline\n",
    "from IPython.display import Image\n",
    "plt.rcParams['image.cmap'] = 'gray'\n",
    "\n",
    "if 'google.colab' in str(get_ipython()):\n",
    "    print(\"Downloading Code to Colab Environment\")\n",
    "    !wget https://www.dropbox.com/sh/8mu8erfnvqk3dzu/AABWmDJkjv-TvECMPRKlufNYa?dl=1 -O module-code.zip -q --show-progress\n",
    "    !unzip -qq module-code.zip\n",
    "else:\n",
    "    pass"
   ]
  },
  {
   "cell_type": "markdown",
   "metadata": {
    "slideshow": {
     "slide_type": "slide"
    }
   },
   "source": [
    "# 1. Reading and Displaying Color Images\n",
    "Until now, we have been using grayscale images in our discussion. Let's now start working with color images. We will begin by reading and displaying color images in two different formats.  We will also discuss some of the unexpected results that can occur. "
   ]
  },
  {
   "cell_type": "markdown",
   "metadata": {},
   "source": [
    "# 1.1 Example: Facebook Logo (JPG)\n",
    "\n",
    "We will start with a simple color image below of the Facebook logo in a JPG format.\n",
    "\n",
    "![c0-m1-Facebook-logo.jpg](https://opencv.org/wp-content/uploads/2021/08/c0-m1-Facebook-logo.jpg)"
   ]
  },
  {
   "cell_type": "markdown",
   "metadata": {},
   "source": [
    "### <font style=\"color:rgb(50,120,230)\">Read JPG image and print the shape and data type</font>\n",
    "Color images are typically represented using three separate \"color\" channels. The specific color channels used to represent a color image depend on the Color Space. One of the most common color spaces is the RGB color space, which contains Red, Green, and Blue channels. "
   ]
  },
  {
   "cell_type": "code",
   "execution_count": null,
   "metadata": {},
   "outputs": [],
   "source": [
    "# Read the image.\n",
    "logo = 'facebook_logo.jpg'\n",
    "logo_img = cv2.imread(logo, cv2.IMREAD_COLOR)\n",
    "\n",
    "# Print the size of the image.\n",
    "print(\"Image size is \", logo_img.shape)"
   ]
  },
  {
   "cell_type": "markdown",
   "metadata": {},
   "source": [
    "### <font style=\"color:rgb(50,120,230)\">Display the image</font>"
   ]
  },
  {
   "cell_type": "code",
   "execution_count": null,
   "metadata": {},
   "outputs": [],
   "source": [
    "plt.figure(figsize = (10,10))\n",
    "plt.imshow(logo_img);"
   ]
  },
  {
   "cell_type": "markdown",
   "metadata": {},
   "source": [
    "### <font style=\"color:rgb(50,120,230)\">What happened to the color?</font>\n",
    "\n",
    "The color displayed above is different from the actual image. This is because matplotlib expects the image to be in RGB format whereas OpenCV stores images in BGR format. Thus, for correct display, we need to reverse the channel order of the image in order to properly render the color of the image."
   ]
  },
  {
   "cell_type": "markdown",
   "metadata": {},
   "source": [
    "### <font style=\"color:rgb(50,120,230)\">Swap the Red and Blue channels</font>\n",
    "There are a couple of different approaches to reversing the order of the color channels. The first approach shown below uses a short-hand NumPy array slicing syntax that will reverse the order of the channels in the 3rd dimension of the image array."
   ]
  },
  {
   "cell_type": "code",
   "execution_count": null,
   "metadata": {},
   "outputs": [],
   "source": [
    "# Swap the Red and Blue color channels.\n",
    "logo_img = logo_img[:, :, ::-1]\n",
    "\n",
    "# Display the image.\n",
    "plt.figure(figsize = (10, 10))\n",
    "plt.imshow(logo_img);"
   ]
  },
  {
   "cell_type": "markdown",
   "metadata": {},
   "source": [
    "## 1.2 Example : PyTorch Logo (PNG)\n",
    "\n",
    "Let's now take a look at a PNG image of the PyTorch logo.\n",
    "\n",
    "![c0-m1-Pytorch-logo.png](https://opencv.org/wp-content/uploads/2021/08/c0-m1-Pytorch-logo.png)"
   ]
  },
  {
   "cell_type": "markdown",
   "metadata": {},
   "source": [
    "### <font style=\"color:rgb(50,120,230)\">Read and display a PNG image </font>"
   ]
  },
  {
   "cell_type": "code",
   "execution_count": null,
   "metadata": {},
   "outputs": [],
   "source": [
    "# Read the image.\n",
    "logo = 'Pytorch_logo.png'\n",
    "logo_img = cv2.imread(logo, cv2.IMREAD_COLOR)\n",
    "\n",
    "# Print the size of the image.\n",
    "print(\"Image size is \", logo_img.shape)\n",
    "\n",
    "# Display the image.\n",
    "plt.figure(figsize = (12, 12))\n",
    "plt.imshow(logo_img);"
   ]
  },
  {
   "cell_type": "markdown",
   "metadata": {},
   "source": [
    "### <font style=\"color:rgb(50,120,230)\">What happened?</font>\n",
    "\n",
    "The color channels need to be swapped as in the previous example, but there is also a black background that was unexpected."
   ]
  },
  {
   "cell_type": "markdown",
   "metadata": {},
   "source": [
    "### <font style=\"color:rgb(50,120,230)\">Use cv2.IMREAD_UNCHANGED to read the image with the alpha channel</font>\n",
    "PNG images support a 4th channel called the \"alpha\" channel. The alpha channel contains transparency information that allows specific regions within an image to appear transparent. As an example, consider the Facebook logo in the previous section. The logo contains two colors (blue and white). The white letters in the logo are actually white: `(255, 255, 255)`. The PyTorch logo, on the other hand, contains an alpha channel that allows certain regions of the image to appear transparent. So the \"white\" background is not white. Instead, those pixels are being masked by a 4th (alpha) channel, and are interpreted as transparent. In this case the pixels in the background portion of the image are set to: `(0,0,0)`, which will appear as black unless we include the alpha chanel to mask them. **We will cover transparency and alpha masking in a future module in more detail, but it is important to be aware of these details when reading and displaying images.**"
   ]
  },
  {
   "cell_type": "code",
   "execution_count": null,
   "metadata": {
    "scrolled": true
   },
   "outputs": [],
   "source": [
    "# Read the image.\n",
    "logo = \"Pytorch_logo.png\"\n",
    "logo_img = cv2.imread(logo, cv2.IMREAD_UNCHANGED)\n",
    "\n",
    "# Print the size of the image.\n",
    "print(logo_img.shape)\n",
    "\n",
    "# Display the image.\n",
    "plt.figure(figsize = (12, 12))\n",
    "plt.imshow(logo_img);"
   ]
  },
  {
   "cell_type": "markdown",
   "metadata": {},
   "source": [
    "\n",
    "<hr style=\"border:none; height: 4px; background-color:#D3D3D3\" />\n",
    "\n",
    "**`cvtColor()`** Converts an image from one color space to another. Note that the default color format in OpenCV is often referred to as RGB but it is actually BGR (the bytes are reversed). So the first byte in a standard (24-bit) color image will be an 8-bit Blue component, the second byte will be Green, and the third byte will be Red. This function can be used to simply swap the order of the Blue and Red channels for the RGB color space, but it can also be used to convert between color spaces as we will see further below.\n",
    "\n",
    "### <font color=\"green\">Function Syntax </font>\n",
    "``` python\n",
    "dst = cv2.cvtColor(src, code)\n",
    "```\n",
    "\n",
    "`dst`: Is the output image of the same size and depth as `src`.\n",
    "\n",
    "The function has **2 required arguments**:\n",
    "\n",
    "1. `src`: input image: 8-bit unsigned, 16-bit unsigned ( CV_16UC... ), or single-precision floating-point.\n",
    "2. `code`: color space conversion code (see ColorConversionCodes below). \n",
    "\n",
    "### <font color=\"green\">OpenCV Documentation</font>\n",
    "\n",
    "[**`cvtColor()`**](https://docs.opencv.org/4.5.2/d8/d01/group__imgproc__color__conversions.html#ga397ae87e1288a81d2363b61574eb8cab)\n",
    "[**`ColorConversionCodes()`** ](https://docs.opencv.org/4.5.2/d8/d01/group__imgproc__color__conversions.html#ga4e0972be5de079fed4e3a10e24ef5ef0)\n",
    "\n",
    "<hr style=\"border:none; height: 4px; background-color:#D3D3D3\" />"
   ]
  },
  {
   "cell_type": "markdown",
   "metadata": {},
   "source": [
    "### <font style=\"color:rgb(50,120,230)\">Use cvtColor() to convert BGRA to RGBA </font>\n",
    "We previously showed that swapping the Blue and Red channels can be accomplished using NumPy as follows: `img[:, :, ::-1]`, however, there is a method in OpenCV that can be used for this purpose as well as many other color conversions. Let's use the `cvtColor()` to swap the channel order. "
   ]
  },
  {
   "cell_type": "code",
   "execution_count": null,
   "metadata": {
    "scrolled": false
   },
   "outputs": [],
   "source": [
    "# Swap the Red and Blue color channels using: cv2.COLOR_BGRA2RGBA.\n",
    "logo_img = cv2.cvtColor(logo_img, cv2.COLOR_BGRA2RGBA)\n",
    "\n",
    "# Display the image.\n",
    "plt.figure(figsize = (12, 12))\n",
    "plt.imshow(logo_img);"
   ]
  },
  {
   "cell_type": "markdown",
   "metadata": {},
   "source": [
    "# 2. Splitting and Merging Color Channels\n",
    "\n",
    "Let's now learn how to split and merge color channels using the **`split()`** and **`merge()`** functions in OpenCV. \n",
    "\n",
    "<hr style=\"border:none; height: 4px; background-color:#D3D3D3\" />\n",
    "\n",
    "**`split()`** Divides a multi-channel array into several single-channel arrays.\n",
    "\n",
    "**`merge()`** Merges several arrays to make a single multi-channel array. All the input matrices must have the same size.\n",
    "\n",
    "### <font color=\"green\">OpenCV Documentation</font>\n",
    "\n",
    "[**`split()`**](https://docs.opencv.org/4.5.2/d2/de8/group__core__array.html#ga0547c7fed86152d7e9d0096029c8518a)\n",
    "[**`merge()`**](https://docs.opencv.org/4.5.2/d2/de8/group__core__array.html#ga61f2f2bde4a0a0154b2333ea504fab1d)\n",
    "\n",
    "<hr style=\"border:none; height: 4px; background-color:#D3D3D3\" />\n",
    "\n",
    "In the example below, we will read an image, split the color channels and plot the individual color channels of the grayscale image to better understand how the individual channels contribute to the color in the original image."
   ]
  },
  {
   "cell_type": "code",
   "execution_count": null,
   "metadata": {},
   "outputs": [],
   "source": [
    "# Split the image into the B,G,R components.\n",
    "img_bgr = cv2.imread('Emerald_Lakes_New_Zealand.jpg', cv2.IMREAD_COLOR)\n",
    "b, g, r = cv2.split(img_bgr)\n",
    "\n",
    "# Show the channels.\n",
    "plt.figure(figsize = [20, 10])\n",
    "plt.subplot(141); plt.imshow(r); plt.title('Red Channel')\n",
    "plt.subplot(142); plt.imshow(g); plt.title('Green Channel')\n",
    "plt.subplot(143); plt.imshow(b); plt.title('Blue Channel')\n",
    "\n",
    "# Merge the individual channels into a BGR image.\n",
    "imgMerged = cv2.merge((r, g, b))\n",
    "\n",
    "# Display the merged output.\n",
    "plt.subplot(144)\n",
    "plt.imshow(imgMerged)\n",
    "plt.title('Merged Output');"
   ]
  },
  {
   "cell_type": "markdown",
   "metadata": {},
   "source": [
    "# 3. Converting to Different Color Spaces\n"
   ]
  },
  {
   "cell_type": "markdown",
   "metadata": {},
   "source": [
    "## 3.1 Background on Color Spaces\n",
    "\n",
    "In simple terms, a color space is a specific organization of colors that typically represents the space of all possible human-perceivable colors. A color model is a mathematical construct for how to specify colors in the color space with a unique tuple of numbers (typically as three or four values representing the relative contributions of color components). A color model can be thought of as a mathematical way to navigate a color space. However, it is very common to use the term “color space” to collectively define both a color model along with a specific mapping of that model onto an absolute color space.\n",
    "\n",
    "As an introduction to color spaces we will consider two commonly used models: the RGB color space (for Red, Green, Blue) and the HSV color space (for Hue, Saturation, Value). Both color spaces use a three-dimensional coordinate system to specify the component colors that represent a unique tuple, and therefore a unique color. These components are also referred to as color channels. Since color images are typically represented by three color channels as 8-bit unsigned integers for each channel, the individual color components can take on values from [0,255]. So we can therefore represent 16.77 Million unique colors in either color space (256 * 256 * 256).\n",
    "\n",
    "In the examples below, we will be working with color images in RGB and HSV."
   ]
  },
  {
   "cell_type": "markdown",
   "metadata": {},
   "source": [
    "## 3.2 Changing to HSV Color Space\n",
    "\n",
    "We can also use **`cvtColor()`** to convert from one color space to another. In the example below, we will convert the image data to the HSV color space, split the channels, and display the individual channels as grayscale images."
   ]
  },
  {
   "cell_type": "code",
   "execution_count": null,
   "metadata": {},
   "outputs": [],
   "source": [
    "img_hsv = cv2.cvtColor(img_bgr, cv2.COLOR_BGR2HSV)\n",
    "\n",
    "# Split the image into the B,G,R components.\n",
    "h, s, v = cv2.split(img_hsv)\n",
    "\n",
    "# Display the channels.\n",
    "plt.figure(figsize = [20, 5])\n",
    "plt.subplot(141); plt.imshow(h); plt.title('H Channel')\n",
    "plt.subplot(142); plt.imshow(s); plt.title('S Channel')\n",
    "plt.subplot(143); plt.imshow(v); plt.title('V Channel')\n",
    "\n",
    "# Display the original image.\n",
    "plt.subplot(144); plt.imshow(img_bgr[:, :, ::-1]); plt.title('Original');"
   ]
  },
  {
   "cell_type": "markdown",
   "metadata": {},
   "source": [
    "## 3.3 Modifying Individual Color Channels"
   ]
  },
  {
   "cell_type": "code",
   "execution_count": null,
   "metadata": {},
   "outputs": [],
   "source": [
    "h_new = h + 10\n",
    "img_hsv_merged = cv2.merge((h_new, s, v))\n",
    "img_rgb_merged = cv2.cvtColor(img_hsv_merged, cv2.COLOR_HSV2RGB)\n",
    "\n",
    "# Display the channels.\n",
    "plt.figure(figsize = [20,5])\n",
    "plt.subplot(141); plt.imshow(h_new); plt.title('H Channel')\n",
    "plt.subplot(142); plt.imshow(s); plt.title('S Channel')\n",
    "plt.subplot(143); plt.imshow(v); plt.title('V Channel')\n",
    "\n",
    "# Display the modified image.\n",
    "plt.subplot(144); plt.imshow(img_rgb_merged); plt.title('Modified');"
   ]
  },
  {
   "cell_type": "markdown",
   "metadata": {},
   "source": [
    "# 4. Saving Images [recap]\n",
    "\n",
    "<hr   style=\"border:none; height: 4px; background-color: #D3D3D3 \" />\n",
    "\n",
    "Saving images using OpenCV is very straightforward using the function **`imwrite()`**. The function saves the image to the specified file. The image format is chosen based on the filename extension (see **`imread()`** for the list of extensions). In general, only 8-bit single-channel or 3-channel (with 'BGR' channel order) images can be saved using this function (see the OpenCV documentation below for further details).\n",
    "\n",
    "\t\n",
    "### <font color=\"green\">Function Syntax </font>\n",
    "``` python\n",
    "cv2.imwrite(filename, img[, params])\n",
    "```\n",
    "\n",
    "The function has **2 required arguments**:\n",
    "\n",
    "1. `filename`: This can be an absolute or a relative path. \n",
    "2. `img`: Image or Images to be saved.\n",
    "\n",
    "### <font color=\"green\">OpenCV Documentation</font>\n",
    "\n",
    "[**`imwrite()`**](https://docs.opencv.org/4.5.2/d4/da8/group__imgcodecs.html#gabbc7ef1aa2edfaa87772f1202d67e0ce)\n",
    "[**`imwriteFlags()`**](https://docs.opencv.org/4.5.2/d8/d6a/group__imgcodecs__flags.html#ga292d81be8d76901bff7988d18d2b42ac)\n",
    "\n",
    "<hr   style=\"border:none; height: 4px; background-color: #D3D3D3 \" />"
   ]
  },
  {
   "cell_type": "markdown",
   "metadata": {},
   "source": [
    "### <font style=\"color:rgb(50,120,230)\">Saving color images</font>"
   ]
  },
  {
   "cell_type": "code",
   "execution_count": null,
   "metadata": {},
   "outputs": [],
   "source": [
    "img = cv2.imread('Emerald_Lakes_New_Zealand.jpg', cv2.IMREAD_COLOR)\n",
    "\n",
    "img_rgb = img[:, :, ::-1]\n",
    "\n",
    "plt.figure(figsize = (5, 5))\n",
    "plt.imshow(img_rgb);"
   ]
  },
  {
   "cell_type": "code",
   "execution_count": null,
   "metadata": {},
   "outputs": [],
   "source": [
    "cv2.imwrite('SAVED.jpg', img_rgb)\n",
    "Image('SAVED.jpg', width = '300')"
   ]
  },
  {
   "cell_type": "code",
   "execution_count": null,
   "metadata": {},
   "outputs": [],
   "source": [
    "cv2.imwrite('SAVED.jpg', img)\n",
    "Image('SAVED.jpg', width = '300')"
   ]
  },
  {
   "cell_type": "markdown",
   "metadata": {},
   "source": [
    "# 5. Exercise\n",
    " Please complete the code in the cell below. "
   ]
  },
  {
   "cell_type": "code",
   "execution_count": null,
   "metadata": {},
   "outputs": [],
   "source": [
    "# Read the saved image above ('Emerald_Lakes_New_Zealand.jpg') as a color image.\n",
    "# YOUR CODE HERE\n",
    "img_bgr = cv2.imread('Emerald_Lakes_New_Zealand.jpg')\n",
    "# Print the image shape.\n",
    "# YOUR CODE HERE\n",
    "print(img_bgr.shape)\n",
    "\n",
    "# Convert the image to grayscale using cv2.cvtColor().\n",
    "# YOUR CODE HERE\n",
    "img_bgr_gray = cv2.cvtColor(img_bgr,cv2.COLOR_BGR2GRAY)\n",
    "# Print the image shape.\n",
    "# YOUR CODE HERE\n",
    "print(img_bgr_gray.shape)\n",
    "# Display the image using matplotlib imshow()\n",
    "plt.figure(figsize = [10, 10])\n",
    "plt.imshow(img_bgr_gray)\n",
    "# YOUR CODE HERE\n"
   ]
  },
  {
   "cell_type": "markdown",
   "metadata": {},
   "source": [
    "Your results should look similar to this.\n",
    "\n",
    "![c0-m1-Emerald-lake-Exercise-01-02.png](https://opencv.org/wp-content/uploads/2021/08/c0-m1-Emerald-lake-Exercise-01-02.png)"
   ]
  }
 ],
 "metadata": {
  "interpreter": {
   "hash": "1e654b3bc3aace0335b326231d51e90ebd214a7f2d0629a648660f7deb4b3382"
  },
  "kernelspec": {
   "display_name": "opencv-env",
   "language": "python",
   "name": "opencv-env"
  },
  "language_info": {
   "codemirror_mode": {
    "name": "ipython",
    "version": 3
   },
   "file_extension": ".py",
   "mimetype": "text/x-python",
   "name": "python",
   "nbconvert_exporter": "python",
   "pygments_lexer": "ipython3",
   "version": "3.10.11"
  }
 },
 "nbformat": 4,
 "nbformat_minor": 2
}
