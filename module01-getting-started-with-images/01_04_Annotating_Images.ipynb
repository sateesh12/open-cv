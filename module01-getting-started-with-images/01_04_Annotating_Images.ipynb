{
 "cells": [
  {
   "cell_type": "markdown",
   "metadata": {
    "id": "6J0qBo1q-6yf"
   },
   "source": [
    "<h1 style=\"font-size:30px;\">Annotating Images</h1>\n",
    "\n",
    "In this notebook we will demonstrate how to annotate images using OpenCV. We will learn how to perform the following annotations to images.\n",
    "\n",
    "* Draw lines \n",
    "* Draw circles\n",
    "* Draw rectangles\n",
    "* Add text\n",
    "\n",
    "These are useful when you want to annotate your results for presentations or show a demo of your application. Annotations can also be useful during development and debugging. Videos can also be annotated as we will see in future modules."
   ]
  },
  {
   "cell_type": "code",
   "execution_count": null,
   "metadata": {
    "id": "2Hpc9fJj-6yg",
    "scrolled": false
   },
   "outputs": [],
   "source": [
    "import cv2\n",
    "import numpy as np\n",
    "import matplotlib.pyplot as plt \n",
    "import matplotlib\n",
    "%matplotlib inline\n",
    "\n",
    "if 'google.colab' in str(get_ipython()):\n",
    "    print(\"Downloading Code to Colab Environment\")\n",
    "    !wget https://www.dropbox.com/sh/8mu8erfnvqk3dzu/AABWmDJkjv-TvECMPRKlufNYa?dl=1 -O module-code.zip -q --show-progress\n",
    "    !unzip -qq module-code.zip\n",
    "else:\n",
    "    pass"
   ]
  },
  {
   "cell_type": "markdown",
   "metadata": {
    "id": "HVeAgsaI-6yi"
   },
   "source": [
    "# 1. Read Grayscale Image as \"Color\"\n",
    "\n",
    "Let's start by reading and displaying an image that we wish to annotate. We selected a grayscale image for this example, but notice that we are using **`cv2.IMREAD_COLOR`** to read the image as a color image. Why is that? If we wish to annotate this image with color, then the image must support a color representation, even though the original image is a grayscale image. The image itself could be rendered as a single channel grayscale image or as a color image (with grayscale \"color\" values). In both cases, the displayed image will appear identical (as a pure grayscale image).\n",
    "\n",
    "To better understand this let's consider the pixel intensity of a specific point in the gray sky. Let's assume the intensity value at [10,101] is 160. So if we read this image as a grayscale image (single channel) then the sky would have a pixel intensity of 160. If we read this image as a color image (three channels) then the pixel intensity at the same point would be represented as (160,160,160). The three channels have identical values and thus give rise to the same grayscale color as the single-channel representation. But singe the image data now contains three color channels it allows us to annotate this image with color!"
   ]
  },
  {
   "cell_type": "code",
   "execution_count": null,
   "metadata": {
    "id": "rUr05jNu-6yi",
    "outputId": "006f929d-c3db-4503-821a-a629061a8a43",
    "scrolled": false
   },
   "outputs": [],
   "source": [
    "# Read the image.\n",
    "image = cv2.imread('Apollo-8-Launch.jpg', cv2.IMREAD_COLOR)\n",
    "\n",
    "# Display the original image.\n",
    "plt.figure(figsize = [7, 7])\n",
    "plt.imshow(image);\n",
    "print(image.shape)"
   ]
  },
  {
   "cell_type": "markdown",
   "metadata": {
    "id": "50xiS0x2-6yj"
   },
   "source": [
    "### <font style=\"color:rgb(50,120,230)\">Define colors for annotations</font>"
   ]
  },
  {
   "cell_type": "code",
   "execution_count": null,
   "metadata": {
    "id": "WXmI5MjY-6yk"
   },
   "outputs": [],
   "source": [
    "yellow  = (0, 255, 255)\n",
    "red     = (0, 0, 255)\n",
    "magenta = (255, 0, 255)\n",
    "green   = (0, 255, 0)"
   ]
  },
  {
   "cell_type": "markdown",
   "metadata": {
    "id": "Mklx4_XD-6yk"
   },
   "source": [
    "# 2. Drawing a Line\n",
    "\n",
    "<hr style=\"border:none; height: 4px; background-color:#D3D3D3\" />\n",
    "\n",
    "The **`line()`** function in OpenCV is used to draw lines on images.\n",
    "\n",
    "### <font color=\"green\">Function Syntax</font>\n",
    "``` python\n",
    "    img = cv2.line(img, pt1, pt2, color[, thickness[, lineType[, shift]]])\n",
    "```\n",
    "\n",
    "**`img`**: The output image that has been annotated.\n",
    "\n",
    "The function has **4 required arguments**:\n",
    "\n",
    "1. `img`:   Image on which we will draw a line\n",
    "2. `pt1`:   First point (x, y) location of the line segment\n",
    "3. `pt2`:   Second point of the line segment\n",
    "4. `color`: Color of the line which will be drawn\n",
    "    \n",
    "Optional arguments that are commonly used include:\n",
    "\n",
    "1. `thickness`: Integer specifying the line thickness. Default value is 1.\n",
    "2. `lineType`:  Type of the line. Default value is **`cv2.LINE_8`** which stands for an 8-connected line. Usually, **`cv2.LINE_AA`** (antialiased or smooth line) is used for the lineType.\n",
    "    \n",
    "### <font color=\"green\">OpenCV Documentation</font>\n",
    "\n",
    "[**`line()`**](https://docs.opencv.org/4.5.2/d6/d6e/group__imgproc__draw.html#ga7078a9fae8c7e7d13d24dac2520ae4a2)\n",
    "[**`linetype`**](https://docs.opencv.org/4.5.2/d6/d6e/group__imgproc__draw.html#gaf076ef45de481ac96e0ab3dc2c29a777)\n",
    "\n",
    "<hr style=\"border:none; height: 4px; background-color:#D3D3D3\" />"
   ]
  },
  {
   "cell_type": "markdown",
   "metadata": {
    "id": "CKEh_3Pv-6yl"
   },
   "source": [
    "### <font style = \"color:rgb(50,120,230)\"> Using: cv2.LINE_8 </font>"
   ]
  },
  {
   "cell_type": "code",
   "execution_count": null,
   "metadata": {
    "id": "PpXKSQdA-6yl",
    "outputId": "137843b8-148a-4c48-e02c-3ba67da518b4",
    "scrolled": false
   },
   "outputs": [],
   "source": [
    "# Make a copy of the original image.\n",
    "image_line = image.copy()\n",
    "\n",
    "# Draw a yellow line (using: cv2.LINE_8)\n",
    "image_line = cv2.line(image_line, (0, 445), (450, 465), yellow, thickness=3, lineType=cv2.LINE_8)\n",
    "\n",
    "# Display the annotated image.\n",
    "plt.figure(figsize = [10, 10])\n",
    "plt.imshow(image_line[:, :, ::-1]);"
   ]
  },
  {
   "cell_type": "markdown",
   "metadata": {
    "id": "7DHZKUIi-6ym"
   },
   "source": [
    "### <font style = \"color:rgb(50,120,230)\"> Using: cv2.LINE_AA </font>"
   ]
  },
  {
   "cell_type": "code",
   "execution_count": null,
   "metadata": {
    "id": "MhG-3oGs-6ym",
    "outputId": "3bf5d704-a52d-4360-ce7e-63900209d91e"
   },
   "outputs": [],
   "source": [
    "# Make a copy of the original image.\n",
    "image_line_aa = image.copy()\n",
    "\n",
    "# Draw a yellow line (using: cv2.LINE_AA)\n",
    "image_line_aa = cv2.line(image_line_aa, (0, 445), (450, 465), yellow, thickness=3, lineType=cv2.LINE_AA)\n",
    "\n",
    "# Display the annotated image.\n",
    "plt.figure(figsize = [10, 10])\n",
    "plt.imshow(image_line_aa[:, :, ::-1]);"
   ]
  },
  {
   "cell_type": "markdown",
   "metadata": {
    "id": "vHD9zOxT-6ym"
   },
   "source": [
    "# 3. Drawing a Circle\n",
    "\n",
    "<hr style=\"border:none; height: 4px; background-color:#D3D3D3\" />\n",
    "\n",
    "The **`circle()`** function in OpenCV is used to draw circles on images.\n",
    "\n",
    "### <font color=\"green\">Function Syntax</font>\n",
    "``` python\n",
    "img = cv2.circle(img, center, radius, color[, thickness[, lineType[, shift]]])\n",
    "```\n",
    "\n",
    "`img`: The output image that has been annotated.\n",
    "\n",
    "The function has **4 required arguments**:\n",
    "\n",
    "1. `img`:    Image on which we will draw a line\n",
    "2. `center`: Center of the circle\n",
    "3. `radius`: Radius of the circle\n",
    "4. `color`:  Color of the circle which will be drawn\n",
    "    \n",
    "Optional arguments that are commonly used include:\n",
    "\n",
    "1. `thickness`: Thickness of the circle outline (if positive). \n",
    "If a negative value is supplied for this argument, it will result in a filled circle.\n",
    "2. `lineType`:  Type of the circle boundary. This is exact same as lineType argument in **`cv2.line()`**\n",
    "    \n",
    "### <font color=\"green\">OpenCV Documentation</font>\n",
    "    \n",
    "[**`circle()`**](https://docs.opencv.org/4.5.2/d6/d6e/group__imgproc__draw.html#gaf10604b069374903dbd0f0488cb43670)\n",
    "\n",
    "<hr style=\"border:none; height: 4px; background-color:#D3D3D3\" />"
   ]
  },
  {
   "cell_type": "code",
   "execution_count": null,
   "metadata": {
    "id": "4fbx9Iug-6yn",
    "outputId": "e7afbf69-f43b-4359-d25c-3ba525c3e384",
    "scrolled": false
   },
   "outputs": [],
   "source": [
    "# Make a copy of the original image.\n",
    "image_circle = image.copy()\n",
    "\n",
    "# Draw a red circle.\n",
    "image_circle = cv2.circle(image_circle, (195, 55), 20, red, thickness = 2, lineType = cv2.LINE_AA)\n",
    "\n",
    "# Display the annotated image.\n",
    "plt.figure(figsize = [8, 8])\n",
    "plt.imshow(image_circle[:, :, ::-1]);"
   ]
  },
  {
   "cell_type": "markdown",
   "metadata": {
    "id": "pjQCpt0m-6yn"
   },
   "source": [
    "# 3. Drawing a Rectangle\n",
    "\n",
    "<hr style=\"border:none; height: 4px; background-color:#D3D3D3\" />\n",
    "\n",
    "The **`rectangle()`** function in OpenCV is used to draw rectangles on images.\n",
    "\n",
    "### <font color=\"green\">Function Syntax</font>\n",
    "\n",
    "    img = cv2.rectangle(img, pt1, pt2, color[, thickness[, lineType[, shift]]])\n",
    "\n",
    "`img`: The output image that has been annotated.\n",
    "\n",
    "The function has **4 required arguments**:\n",
    "\n",
    "1. `img`: Image on which the rectangle is to be drawn.\n",
    "2. `pt1`: Vertex of the rectangle. Usually we use the **top-left vertex** here.\n",
    "3. `pt2`: Vertex of the rectangle opposite to pt1. Usually we use the **bottom-right**              vertex here.\n",
    "4. `color`: Rectangle color\n",
    "    \n",
    "Optional arguments that are commonly used include:\n",
    "\n",
    "1. `thickness`: Thickness of the circle outline (if positive). \n",
    "    If a negative value is supplied for this argument, it will result in a filled rectangle.\n",
    "2. `lineType`: Type of the circle boundary. This is exact same as lineType argument in \n",
    "    **`cv2.line()`**\n",
    "    \n",
    "### <font color=\"green\">OpenCV Documentation Links</font>\n",
    "\n",
    "[**`rectangle()`**](https://docs.opencv.org/4.5.2/d6/d6e/group__imgproc__draw.html#ga07d2f74cadcf8e305e810ce8eed13bc9)\n",
    "\n",
    "<hr style=\"border:none; height: 4px; background-color:#D3D3D3\" />"
   ]
  },
  {
   "cell_type": "code",
   "execution_count": null,
   "metadata": {
    "id": "k1Hh1jJv-6yn",
    "outputId": "7fbfa7b0-34dc-45cc-bd4f-5c2d51bfc8b6",
    "scrolled": false
   },
   "outputs": [],
   "source": [
    "# Make a copy of the original image.\n",
    "image_rectangle = image.copy()\n",
    "\n",
    "# Draw a magenta rectangle.\n",
    "image_rectangle = cv2.rectangle(image_rectangle, (300, 150), (480, 420), magenta, thickness = 3, lineType = cv2.LINE_8)\n",
    "\n",
    "# Display the annotated image.\n",
    "plt.figure(figsize = [8, 8])\n",
    "plt.imshow(image_rectangle[:, :, ::-1]);"
   ]
  },
  {
   "cell_type": "markdown",
   "metadata": {
    "id": "OsA2ozhq-6yn"
   },
   "source": [
    "# 4. Adding Text\n",
    "\n",
    "<hr style=\"border:none; height: 4px; background-color:#D3D3D3\" />\n",
    "\n",
    "The **`putText()`** function in OpenCV is used to add text to images.\n",
    "\n",
    "### <font color=\"green\">Function Syntax</font>\n",
    "\n",
    "    img = cv2.putText(img, text, org, fontFace, fontScale, color[, thickness[, lineType[, bottomLeftOrigin]]])\n",
    "\n",
    "`img`: The output image that has been annotated.\n",
    "\n",
    "The function has **6 required arguments**:\n",
    "\n",
    "1. `img`: Image on which the text has to be written.\n",
    "2. `text`: Text string to be written.\n",
    "3. `org`: Bottom-left corner of the text string in the image.\n",
    "4. `fontFace`: Font type\n",
    "5. `fontScale`: Font scale factor that is multiplied by the font-specific base size.\n",
    "6. `color`: Font color\n",
    " \n",
    "Optional arguments that are commonly used include:\n",
    "\n",
    "1. `thickness`: Integer specifying the line thickness for the text. Default value is 1.\n",
    "2. `lineType`: Type of the line. Default value is 8 which stands for an 8-connected line. Usually, **`cv2.LINE_AA`** (antialiased or smooth line) is used for the lineType.\n",
    "\n",
    "### <font color=\"green\">OpenCV Documentation</font>\n",
    "\n",
    "[**`putText()`**](https://docs.opencv.org/4.5.2/d6/d6e/group__imgproc__draw.html#ga5126f47f883d730f633d74f07456c576)\n",
    "\n",
    "<hr style=\"border:none; height: 4px; background-color:#D3D3D3\" />"
   ]
  },
  {
   "cell_type": "code",
   "execution_count": null,
   "metadata": {
    "id": "pp1INIl0-6yo",
    "outputId": "3c2a5304-ce87-4814-8eb7-1fc99ca04be4",
    "scrolled": false
   },
   "outputs": [],
   "source": [
    "# Make a copy of the original image.\n",
    "image_text = image.copy()\n",
    "\n",
    "# Add text to the image.\n",
    "text = 'Apollo 8 Saturn V Launch, 21 Dec 1968'\n",
    "font_face = cv2.FONT_HERSHEY_SIMPLEX\n",
    "font_scale = 0.8\n",
    "font_color = green\n",
    "font_thickness = 1\n",
    "\n",
    "image_text = cv2.putText(image_text, text, (45, 30), font_face, font_scale, font_color, font_thickness, cv2.LINE_AA)\n",
    "\n",
    "# Display the annotated image.\n",
    "plt.figure(figsize = [10, 10])\n",
    "plt.imshow(image_text[:, :, ::-1]);"
   ]
  },
  {
   "cell_type": "markdown",
   "metadata": {
    "id": "wORAh8eQ-6yo"
   },
   "source": [
    "# 5. Exercise\n",
    "Please complete the code in the cell below."
   ]
  },
  {
   "cell_type": "code",
   "execution_count": null,
   "metadata": {
    "id": "PSVWJ5Pg-6yo"
   },
   "outputs": [],
   "source": [
    "# Read in the image ('Apollo-11-launch.jpg').\n",
    "apollo = cv2.imread('Apollo-11-launch.jpg', cv2.IMREAD_COLOR)\n",
    "plt.figure(figsize = [12, 12])\n",
    "\n",
    "\n",
    "# Add the following text to the dark area at the bottom of the image (centered on the image):\n",
    "# 'Apollo 11 Saturn V Launch, July 16, 1969'.\n",
    "font_face = cv2.FONT_HERSHEY_PLAIN \n",
    "text = 'Apollo 11 Saturn V Launch, July 16, 1969' \n",
    "font_scale = 2\n",
    "font_color = green\n",
    "font_thickness = 2\n",
    "apollo_with_text = cv2.putText(apollo, text,(200,700),font_face,font_scale,font_color,font_thickness)\n",
    "plt.imshow(apollo_with_text)\n",
    "\n",
    "\n",
    "# YOUR CODE HERE: use putText()\n",
    "\n",
    "# Draw a magenta rectangle that encompasses the launch tower and the rocket.\n",
    "#rect_color = magenta\n",
    "# YOUR CODE HERE\n",
    "pt1 = (500,100)\n",
    "pt2 = (800,600)\n",
    "apollo_text_rectangle = cv2.rectangle(apollo_with_text, pt1, pt2, magenta, thickness = 3 , lineType = cv2.LINE_8)\n",
    "plt.imshow(apollo_text_rectangle)\n",
    "\n",
    "\n",
    "# plt.figure(figsize=[12, 12])\n",
    "# Display the final annotated image\n",
    "# YOUR CODE HERE"
   ]
  },
  {
   "cell_type": "markdown",
   "metadata": {
    "id": "WfhkMyIR-6yo"
   },
   "source": [
    "Your results should look similar to this.\n",
    "\n",
    "![c0-m1-Appolo-Exercise-01-04.png](https://opencv.org/wp-content/uploads/2021/08/c0-m1-Appolo-Exercise-01-04.png)"
   ]
  },
  {
   "cell_type": "code",
   "execution_count": null,
   "metadata": {},
   "outputs": [],
   "source": []
  }
 ],
 "metadata": {
  "colab": {
   "collapsed_sections": [],
   "name": "01_04_Annotating_Images.ipynb",
   "provenance": []
  },
  "interpreter": {
   "hash": "1e654b3bc3aace0335b326231d51e90ebd214a7f2d0629a648660f7deb4b3382"
  },
  "kernelspec": {
   "display_name": "opencv-env",
   "language": "python",
   "name": "opencv-env"
  },
  "language_info": {
   "codemirror_mode": {
    "name": "ipython",
    "version": 3
   },
   "file_extension": ".py",
   "mimetype": "text/x-python",
   "name": "python",
   "nbconvert_exporter": "python",
   "pygments_lexer": "ipython3",
   "version": "3.10.11"
  }
 },
 "nbformat": 4,
 "nbformat_minor": 2
}
