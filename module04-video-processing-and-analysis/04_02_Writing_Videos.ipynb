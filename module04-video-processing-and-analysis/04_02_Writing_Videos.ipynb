{
 "cells": [
  {
   "cell_type": "markdown",
   "metadata": {
    "id": "HanH-91-SWN_"
   },
   "source": [
    "<h1 style=\"font-size:30px;\">Writing Videos</h1>\n",
    "\n",
    "While building applications that involve video streams, it is often required to write videos. For example, in a surveillance application, you might want to save a video clip as soon as you see something unusual happening. Writing videos can also be useful during the development phase to help debug your code or to create demos of your work. \n",
    "\n",
    "In this notebook, we will describe how to save a video in **`avi`** and **`mp4`** formats using openCV. We will also demonstrate how to annotate video frames."
   ]
  },
  {
   "cell_type": "code",
   "execution_count": null,
   "metadata": {
    "colab": {
     "base_uri": "https://localhost:8080/"
    },
    "id": "k9HaX8MoSWOC",
    "outputId": "9c5d6e88-011b-4911-8f1c-0b757f2137a7"
   },
   "outputs": [],
   "source": [
    "import cv2\n",
    "import numpy as np\n",
    "import matplotlib.pyplot as plt \n",
    "%matplotlib inline\n",
    "\n",
    "if 'google.colab' in str(get_ipython()):\n",
    "    print(\"Downloading Code to Colab Environment\")\n",
    "    !wget https://www.dropbox.com/sh/t7x50ww3ultvwn3/AACnmQGBD7rIbznXzi1sRWJqa?dl=1 -O module-code.zip -q --show-progress\n",
    "    !unzip -qq module-code.zip\n",
    "else:\n",
    "    pass"
   ]
  },
  {
   "cell_type": "markdown",
   "metadata": {
    "id": "DWtxQ5DiSWOE"
   },
   "source": [
    "### <font style=\"color:rgb(50,120,230)\">Preview video</font>"
   ]
  },
  {
   "cell_type": "code",
   "execution_count": null,
   "metadata": {
    "colab": {
     "base_uri": "https://localhost:8080/",
     "height": 393
    },
    "id": "TFGSw1T-SWOE",
    "outputId": "ed8ab5df-4bf0-40da-c844-57be82b9f7f1"
   },
   "outputs": [],
   "source": [
    "from moviepy.editor import VideoFileClip\n",
    "\n",
    "input_video = './race_car.mp4'\n",
    "\n",
    "# loading output video \n",
    "clip = VideoFileClip(input_video)\n",
    "clip.ipython_display(width = 600)"
   ]
  },
  {
   "cell_type": "markdown",
   "metadata": {
    "id": "pYOUc8BESWOF"
   },
   "source": [
    "# 1. Read Video from Source"
   ]
  },
  {
   "cell_type": "markdown",
   "metadata": {
    "id": "_oyjTcwfSWOF"
   },
   "source": [
    "Before we demonstrate how to write a video, we will first need to read a video file into memory so we have a video stream to write. Reading videos requires the creation of a video capture object using the `VideoCapture()` class.\n",
    "\n",
    "<hr style=\"border:none; height: 4px; background-color:#D3D3D3\" />\n",
    "\n",
    "### <font color=\"green\">Function Syntax</font>\n",
    "```python\n",
    "VideoCapture object = cv2.VideoCapture(filename[, apiPreference])\n",
    "\n",
    "```\n",
    "The function has **1 required argument**:\n",
    "\n",
    "1. `filename`: Name of the input video file.\n",
    "\n",
    "There is also another common usage that allows you to specifify an index to access the video stream from a camera mounted to your computer. If you computer has a web camera, then it can be acessed using an index of `0`.\n",
    "```python\n",
    "VideoCapture object = cv2.VideoCapture(index[, apiPreference])\n",
    "```\n",
    "\n",
    "### <font color=\"green\">OpenCV Documentation</font>\n",
    "\n",
    "\n",
    "[**`VideoCapture()`**](https://docs.opencv.org/4.5.2/d8/dfe/classcv_1_1VideoCapture.html)\n",
    "\n",
    "<hr style=\"border:none; height: 4px; background-color:#D3D3D3\" />"
   ]
  },
  {
   "cell_type": "markdown",
   "metadata": {
    "id": "zuSQQr_dSWOG"
   },
   "source": [
    "## 1.1 Create the video capture object"
   ]
  },
  {
   "cell_type": "code",
   "execution_count": null,
   "metadata": {
    "id": "m7Paul4XSWOH"
   },
   "outputs": [],
   "source": [
    "import cv2\n",
    "import numpy as np\n",
    "import matplotlib.pyplot as plt \n",
    "%matplotlib inline\n",
    "#source = input_video  # source = 0 for webcam\n",
    "\n",
    "video_cap = cv2.VideoCapture(0)\n",
    "if (video_cap.isOpened()== False): \n",
    "  print(\"Error opening video stream or file\")"
   ]
  },
  {
   "cell_type": "markdown",
   "metadata": {
    "id": "bCxecR46SWOI"
   },
   "source": [
    "### <font style=\"color:rgb(50,120,230)\">Read and display the first frame of the video</font>"
   ]
  },
  {
   "cell_type": "code",
   "execution_count": null,
   "metadata": {
    "colab": {
     "base_uri": "https://localhost:8080/",
     "height": 383
    },
    "id": "RH9zzRiCSWOI",
    "outputId": "d97328e1-848e-4a96-da79-81c4e0204c90"
   },
   "outputs": [],
   "source": [
    "ret, frame = video_cap.read()\n",
    "plt.figure(figsize = (10, 8))\n",
    "plt.imshow(frame[...,::-1])\n",
    "\n",
    "# Release the VideoCapture and VideoWriter objects\n",
    "#video_cap.release()"
   ]
  },
  {
   "cell_type": "markdown",
   "metadata": {
    "id": "3_NUiDhtSWOJ"
   },
   "source": [
    "# 2. Writing Videos"
   ]
  },
  {
   "cell_type": "markdown",
   "metadata": {
    "id": "kF6QWUaFSWOJ"
   },
   "source": [
    "Writing videos requires the creation of a video writer object using the `VideoWriter()` class.\n",
    "\n",
    "<hr style=\"border:none; height: 4px; background-color:#D3D3D3\" />\n",
    "\n",
    "### <font color=\"green\">Function Syntax</font>\n",
    "```python\n",
    "VideoWriter object = cv2.VideoWriter(filename, fourcc, fps, frameSize[, isColor])\n",
    "```\n",
    "The function has **4 required arguments**:\n",
    "\n",
    "1. `filename`: Name of the output video file.\n",
    "2. `fourcc`: 4-character code of codec used to compress the frames. For example, VideoWriter::fourcc('P','I','M','1') is a MPEG-1 codec, VideoWriter::fourcc('M','J','P','G') is a motion-jpeg codec etc. List of codes can be obtained at Video Codecs by FOURCC page. FFMPEG backend with MP4 container natively uses other values as fourcc code: see ObjectType, so you may receive a warning message from OpenCV about fourcc code conversion.\n",
    "3. `fps`: Framerate of the created video stream.\n",
    "4. `frameSize`: Size of the video frames.\n",
    "\n",
    "### <font color=\"green\">OpenCV Documentation</font>\n",
    "\n",
    "\n",
    "[**`VideoWriter()`**](https://docs.opencv.org/4.5.2/dd/d9e/classcv_1_1VideoWriter.html)\n",
    "\n",
    "<hr style=\"border:none; height: 4px; background-color:#D3D3D3\" />"
   ]
  },
  {
   "cell_type": "markdown",
   "metadata": {
    "id": "l0dQadPeSWOK"
   },
   "source": [
    "## 2.1 Create the video writer object"
   ]
  },
  {
   "cell_type": "code",
   "execution_count": null,
   "metadata": {
    "id": "RljsdS2oSWOK"
   },
   "outputs": [],
   "source": [
    "# Retrieve video frame properties.\n",
    "frame_w   = int(video_cap.get(cv2.CAP_PROP_FRAME_WIDTH))\n",
    "frame_h   = int(video_cap.get(cv2.CAP_PROP_FRAME_HEIGHT))\n",
    "frame_fps = int(video_cap.get(cv2.CAP_PROP_FPS))\n",
    "\n",
    "# Specify the value for fourcc\n",
    "fourcc_avi = cv2.VideoWriter_fourcc('M','J','P','G')\n",
    "fourcc_mp4 = cv2.VideoWriter_fourcc(*'XVID')\n",
    "\n",
    "# Specify the video output filenames.\n",
    "file_out_avi = 'video_out.avi'\n",
    "file_out_mp4 = 'video_out.mp4'\n",
    "\n",
    "# Slow down the speed of the video.\n",
    "frame_fps = int(frame_fps/3)\n",
    "\n",
    "# Create the video writer objects.\n",
    "out_avi = cv2.VideoWriter(file_out_avi, fourcc_avi, frame_fps, (frame_w,frame_h))\n",
    "out_mp4 = cv2.VideoWriter(file_out_mp4, fourcc_mp4, frame_fps, (frame_w,frame_h))"
   ]
  },
  {
   "cell_type": "markdown",
   "metadata": {
    "id": "ELGv6DXrSWOK"
   },
   "source": [
    "## 2.2 Loop over video frames and write each one to the output file"
   ]
  },
  {
   "cell_type": "markdown",
   "metadata": {
    "id": "U4fTUes_SWOL"
   },
   "source": [
    "### <font style=\"color:rgb(50,120,230)\">Convenience function for annotating video frames</font>"
   ]
  },
  {
   "cell_type": "code",
   "execution_count": null,
   "metadata": {
    "id": "9S9Kmx4SSWOL"
   },
   "outputs": [],
   "source": [
    "def drawBannerText(frame, text, banner_height_percent = 0.05, text_color = (0,255,0)):\n",
    "    # Draw a black filled banner across the top of the image frame.\n",
    "    # percent: set the banner height as a percentage of the frame height.\n",
    "    banner_height = int(banner_height_percent * frame.shape[0])\n",
    "    cv2.rectangle(frame, (0,0), (frame.shape[1],banner_height), (0,0,0), thickness=-1)\n",
    "    \n",
    "    # Draw text on banner.\n",
    "    left_offset = 20\n",
    "    location = (left_offset, int( 5 + (banner_height_percent * frame.shape[0])/2 ))\n",
    "    fontScale = 1.5\n",
    "    fontThickness = 2\n",
    "    cv2.putText(frame, text, location, cv2.FONT_HERSHEY_PLAIN, fontScale, text_color, fontThickness, cv2.LINE_AA)"
   ]
  },
  {
   "cell_type": "markdown",
   "metadata": {
    "id": "1wHkOTy6SWOM"
   },
   "source": [
    "### <font style=\"color:rgb(50,120,230)\">Process video frames</font>"
   ]
  },
  {
   "cell_type": "code",
   "execution_count": null,
   "metadata": {
    "id": "rFHOMYAjSWOM"
   },
   "outputs": [],
   "source": [
    "# Read all the frames in the video.\n",
    "frame_count = 0\n",
    "while True:\n",
    "  \n",
    "    # Read one frame at a time.\n",
    "    ok, frame = video_cap.read()\n",
    "    if not ok:\n",
    "        break\n",
    "\n",
    "    # Increment the frame count for the annotation.\n",
    "    frame_count += 1\n",
    "  \n",
    "    # Annotate each video frame.\n",
    "    drawBannerText(frame, 'Frame: ' + str(int(frame_count)) + ' FPS: ' + str(int(frame_fps)))\n",
    "    \n",
    "    # Write the frame to the output files.\n",
    "    out_avi.write(frame)\n",
    "    out_mp4.write(frame)"
   ]
  },
  {
   "cell_type": "markdown",
   "metadata": {
    "id": "GPf0ONEWSWOM"
   },
   "source": [
    "### <font style=\"color:rgb(50,120,230)\">Release the video capture and video writer objects</font>"
   ]
  },
  {
   "cell_type": "code",
   "execution_count": null,
   "metadata": {
    "id": "Ng84d0oDSWOM"
   },
   "outputs": [],
   "source": [
    "# Release the VideoCapture and VideoWriter objects\n",
    "video_cap.release()\n",
    "out_avi.release()\n",
    "out_mp4.release()"
   ]
  },
  {
   "cell_type": "markdown",
   "metadata": {
    "id": "HdbaCg6BSWON"
   },
   "source": [
    "# 3. Load the newly created video to confirm creation"
   ]
  },
  {
   "cell_type": "code",
   "execution_count": null,
   "metadata": {
    "colab": {
     "base_uri": "https://localhost:8080/",
     "height": 376
    },
    "id": "x4KewDqLSWON",
    "outputId": "4c1c6aaa-ef46-4c58-833f-e2e97f554f9b"
   },
   "outputs": [],
   "source": [
    "clip = VideoFileClip(file_out_mp4)\n",
    "clip.ipython_display(width = 600)"
   ]
  },
  {
   "cell_type": "code",
   "execution_count": null,
   "metadata": {},
   "outputs": [],
   "source": []
  }
 ],
 "metadata": {
  "colab": {
   "name": "04_02_Writing_Videos.ipynb",
   "provenance": []
  },
  "kernelspec": {
   "display_name": "Python 3 (ipykernel)",
   "language": "python",
   "name": "python3"
  },
  "language_info": {
   "codemirror_mode": {
    "name": "ipython",
    "version": 3
   },
   "file_extension": ".py",
   "mimetype": "text/x-python",
   "name": "python",
   "nbconvert_exporter": "python",
   "pygments_lexer": "ipython3",
   "version": "3.10.11"
  }
 },
 "nbformat": 4,
 "nbformat_minor": 1
}
